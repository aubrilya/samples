{
 "cells": [
  {
   "cell_type": "markdown",
   "metadata": {},
   "source": [
    "# Detecting gender based on first name"
   ]
  },
  {
   "cell_type": "code",
   "execution_count": 10,
   "metadata": {},
   "outputs": [],
   "source": [
    "import pandas as pd\n",
    "import numpy as np\n",
    "from ethnicolr import census_ln, pred_census_ln\n",
    "import gender_guesser.detector as gender\n",
    "\n",
    "d = gender.Detector()"
   ]
  },
  {
   "cell_type": "markdown",
   "metadata": {},
   "source": [
    "Gender is predicted based on first name. A name may be coded as male, female, or androgynous. Now lets create some fake data to work with:"
   ]
  },
  {
   "cell_type": "code",
   "execution_count": 102,
   "metadata": {
    "collapsed": true
   },
   "outputs": [],
   "source": [
    "first =  pd.DataFrame({\"first\": ('Aubrey', 'Ilya', 'Emanuel', 'Jurgen', 'Marta', 'Ingeborg' , 'Andrei', 'Andreia', 'Sergi', 'Melania', 'Joachim', 'Georgie')})\n",
    "last =  pd.DataFrame({\"last\":  ('O\\'Neal','Beskin','Garcia','Xu', 'Schneider', 'Roger','Pelevin', 'Carillio', 'Navaro', 'Chyi', 'Brabetz', 'Dumas', 'Taylor')})"
   ]
  },
  {
   "cell_type": "code",
   "execution_count": 103,
   "metadata": {},
   "outputs": [
    {
     "name": "stdout",
     "output_type": "stream",
     "text": [
      "andy\n",
      "male\n",
      "male\n",
      "male\n",
      "female\n",
      "female\n",
      "male\n",
      "female\n",
      "male\n",
      "female\n",
      "male\n",
      "andy\n"
     ]
    }
   ],
   "source": [
    "gender = pd.DataFrame({'gender':()})\n",
    "gender\n",
    "for i in range (0,12):\n",
    "    x = d.get_gender(first['first'][i])\n",
    "    print(x)\n",
    "    #gender = gender.append({'gender'}: (x), ignore_index=True)"
   ]
  },
  {
   "cell_type": "markdown",
   "metadata": {},
   "source": [
    "Just 2 names, Aubrey and Georgie, are calculated in as androgynous. A more sophisticated model might use the endings 'ey' and 'ie' to predict these as girl's names. "
   ]
  },
  {
   "cell_type": "markdown",
   "metadata": {},
   "source": [
    "# Predicting Ethnicity based on last name"
   ]
  },
  {
   "cell_type": "markdown",
   "metadata": {},
   "source": [
    "The ethnicolr library predicts ethnicity based on last name, according to the U.S. census. This method is limitted in that is groups ethnicities into broad groups (i.e. white, asian pacific islander, black, hispanic). Census data from other countries are limitted, but hopefully in the future they will be more accessible. "
   ]
  },
  {
   "cell_type": "markdown",
   "metadata": {},
   "source": [
    "Note in the results that French, German, British, Irish, Filipino and Russian names are all classified as white."
   ]
  },
  {
   "cell_type": "code",
   "execution_count": 82,
   "metadata": {},
   "outputs": [
    {
     "data": {
      "text/html": [
       "<div>\n",
       "<style>\n",
       "    .dataframe thead tr:only-child th {\n",
       "        text-align: right;\n",
       "    }\n",
       "\n",
       "    .dataframe thead th {\n",
       "        text-align: left;\n",
       "    }\n",
       "\n",
       "    .dataframe tbody tr th {\n",
       "        vertical-align: top;\n",
       "    }\n",
       "</style>\n",
       "<table border=\"1\" class=\"dataframe\">\n",
       "  <thead>\n",
       "    <tr style=\"text-align: right;\">\n",
       "      <th></th>\n",
       "      <th>last</th>\n",
       "      <th>race</th>\n",
       "      <th>api</th>\n",
       "      <th>black</th>\n",
       "      <th>hispanic</th>\n",
       "      <th>white</th>\n",
       "    </tr>\n",
       "  </thead>\n",
       "  <tbody>\n",
       "    <tr>\n",
       "      <th>0</th>\n",
       "      <td>O'Neal</td>\n",
       "      <td>white</td>\n",
       "      <td>0.016331</td>\n",
       "      <td>0.361271</td>\n",
       "      <td>0.046748</td>\n",
       "      <td>0.862671</td>\n",
       "    </tr>\n",
       "    <tr>\n",
       "      <th>1</th>\n",
       "      <td>Beskin</td>\n",
       "      <td>white</td>\n",
       "      <td>0.005463</td>\n",
       "      <td>0.149613</td>\n",
       "      <td>0.024858</td>\n",
       "      <td>0.854131</td>\n",
       "    </tr>\n",
       "    <tr>\n",
       "      <th>2</th>\n",
       "      <td>Garcia</td>\n",
       "      <td>hispanic</td>\n",
       "      <td>0.007330</td>\n",
       "      <td>0.002251</td>\n",
       "      <td>0.908621</td>\n",
       "      <td>0.037340</td>\n",
       "    </tr>\n",
       "    <tr>\n",
       "      <th>3</th>\n",
       "      <td>Xu</td>\n",
       "      <td>api</td>\n",
       "      <td>0.990549</td>\n",
       "      <td>0.000068</td>\n",
       "      <td>0.001058</td>\n",
       "      <td>0.001288</td>\n",
       "    </tr>\n",
       "    <tr>\n",
       "      <th>4</th>\n",
       "      <td>Schneider</td>\n",
       "      <td>white</td>\n",
       "      <td>0.001744</td>\n",
       "      <td>0.006071</td>\n",
       "      <td>0.010342</td>\n",
       "      <td>0.986659</td>\n",
       "    </tr>\n",
       "    <tr>\n",
       "      <th>5</th>\n",
       "      <td>Roger</td>\n",
       "      <td>white</td>\n",
       "      <td>0.001714</td>\n",
       "      <td>0.033316</td>\n",
       "      <td>0.021047</td>\n",
       "      <td>0.894457</td>\n",
       "    </tr>\n",
       "    <tr>\n",
       "      <th>6</th>\n",
       "      <td>Pelevin</td>\n",
       "      <td>white</td>\n",
       "      <td>0.005253</td>\n",
       "      <td>0.065462</td>\n",
       "      <td>0.015692</td>\n",
       "      <td>0.731230</td>\n",
       "    </tr>\n",
       "    <tr>\n",
       "      <th>7</th>\n",
       "      <td>Carillio</td>\n",
       "      <td>white</td>\n",
       "      <td>0.023430</td>\n",
       "      <td>0.002345</td>\n",
       "      <td>0.136814</td>\n",
       "      <td>0.150543</td>\n",
       "    </tr>\n",
       "    <tr>\n",
       "      <th>8</th>\n",
       "      <td>Navaro</td>\n",
       "      <td>hispanic</td>\n",
       "      <td>0.013820</td>\n",
       "      <td>0.003073</td>\n",
       "      <td>0.361288</td>\n",
       "      <td>0.126328</td>\n",
       "    </tr>\n",
       "    <tr>\n",
       "      <th>9</th>\n",
       "      <td>Chyi</td>\n",
       "      <td>api</td>\n",
       "      <td>0.951188</td>\n",
       "      <td>0.019236</td>\n",
       "      <td>0.032621</td>\n",
       "      <td>0.008878</td>\n",
       "    </tr>\n",
       "    <tr>\n",
       "      <th>10</th>\n",
       "      <td>Brabetz</td>\n",
       "      <td>white</td>\n",
       "      <td>0.004721</td>\n",
       "      <td>0.015005</td>\n",
       "      <td>0.008785</td>\n",
       "      <td>0.965236</td>\n",
       "    </tr>\n",
       "    <tr>\n",
       "      <th>11</th>\n",
       "      <td>Dumas</td>\n",
       "      <td>white</td>\n",
       "      <td>0.022460</td>\n",
       "      <td>0.283524</td>\n",
       "      <td>0.025583</td>\n",
       "      <td>0.867217</td>\n",
       "    </tr>\n",
       "    <tr>\n",
       "      <th>12</th>\n",
       "      <td>Taylor</td>\n",
       "      <td>white</td>\n",
       "      <td>0.007866</td>\n",
       "      <td>0.431826</td>\n",
       "      <td>0.024688</td>\n",
       "      <td>0.912555</td>\n",
       "    </tr>\n",
       "  </tbody>\n",
       "</table>\n",
       "</div>"
      ],
      "text/plain": [
       "         last      race       api     black  hispanic     white\n",
       "0      O'Neal     white  0.016331  0.361271  0.046748  0.862671\n",
       "1      Beskin     white  0.005463  0.149613  0.024858  0.854131\n",
       "2      Garcia  hispanic  0.007330  0.002251  0.908621  0.037340\n",
       "3          Xu       api  0.990549  0.000068  0.001058  0.001288\n",
       "4   Schneider     white  0.001744  0.006071  0.010342  0.986659\n",
       "5       Roger     white  0.001714  0.033316  0.021047  0.894457\n",
       "6     Pelevin     white  0.005253  0.065462  0.015692  0.731230\n",
       "7    Carillio     white  0.023430  0.002345  0.136814  0.150543\n",
       "8      Navaro  hispanic  0.013820  0.003073  0.361288  0.126328\n",
       "9        Chyi       api  0.951188  0.019236  0.032621  0.008878\n",
       "10    Brabetz     white  0.004721  0.015005  0.008785  0.965236\n",
       "11      Dumas     white  0.022460  0.283524  0.025583  0.867217\n",
       "12     Taylor     white  0.007866  0.431826  0.024688  0.912555"
      ]
     },
     "execution_count": 82,
     "metadata": {},
     "output_type": "execute_result"
    }
   ],
   "source": [
    "ethnicity = pred_census_ln(last, 'last')\n",
    "ethnicity"
   ]
  },
  {
   "cell_type": "markdown",
   "metadata": {},
   "source": [
    "# Geolocation"
   ]
  },
  {
   "cell_type": "markdown",
   "metadata": {},
   "source": [
    "The trickiest bit of this project is geocoding, as Google API limits calls to 2,500 calls per day. Let's attempt to make our own gazeteer based on the most common places in our library. We will call the Goggle Maps API on only these most frequent locations."
   ]
  },
  {
   "cell_type": "code",
   "execution_count": 91,
   "metadata": {},
   "outputs": [
    {
     "data": {
      "text/html": [
       "<div>\n",
       "<style>\n",
       "    .dataframe thead tr:only-child th {\n",
       "        text-align: right;\n",
       "    }\n",
       "\n",
       "    .dataframe thead th {\n",
       "        text-align: left;\n",
       "    }\n",
       "\n",
       "    .dataframe tbody tr th {\n",
       "        vertical-align: top;\n",
       "    }\n",
       "</style>\n",
       "<table border=\"1\" class=\"dataframe\">\n",
       "  <thead>\n",
       "    <tr style=\"text-align: right;\">\n",
       "      <th></th>\n",
       "      <th>location</th>\n",
       "    </tr>\n",
       "  </thead>\n",
       "  <tbody>\n",
       "    <tr>\n",
       "      <th>0</th>\n",
       "      <td>Berlin</td>\n",
       "    </tr>\n",
       "    <tr>\n",
       "      <th>1</th>\n",
       "      <td>Berlin, Deutschland</td>\n",
       "    </tr>\n",
       "    <tr>\n",
       "      <th>2</th>\n",
       "      <td>Hannover</td>\n",
       "    </tr>\n",
       "    <tr>\n",
       "      <th>3</th>\n",
       "      <td>Paris</td>\n",
       "    </tr>\n",
       "    <tr>\n",
       "      <th>4</th>\n",
       "      <td>Berlin, Germany</td>\n",
       "    </tr>\n",
       "    <tr>\n",
       "      <th>5</th>\n",
       "      <td>Berlin</td>\n",
       "    </tr>\n",
       "    <tr>\n",
       "      <th>6</th>\n",
       "      <td>Holland</td>\n",
       "    </tr>\n",
       "    <tr>\n",
       "      <th>7</th>\n",
       "      <td>Holland</td>\n",
       "    </tr>\n",
       "  </tbody>\n",
       "</table>\n",
       "</div>"
      ],
      "text/plain": [
       "              location\n",
       "0               Berlin\n",
       "1  Berlin, Deutschland\n",
       "2             Hannover\n",
       "3                Paris\n",
       "4      Berlin, Germany\n",
       "5               Berlin\n",
       "6              Holland\n",
       "7              Holland"
      ]
     },
     "execution_count": 91,
     "metadata": {},
     "output_type": "execute_result"
    }
   ],
   "source": [
    "location =  pd.DataFrame({\"location\": ('Berlin', 'Berlin, Deutschland', 'Hannover', \n",
    "                        'Paris', 'Berlin, Germany', 'Berlin' , 'Holland', 'Holland')})\n",
    "\n",
    "location"
   ]
  },
  {
   "cell_type": "markdown",
   "metadata": {},
   "source": [
    "We now have some fake data. Let's clean up the commas and attempt to split data into cities and countries."
   ]
  },
  {
   "cell_type": "code",
   "execution_count": 92,
   "metadata": {},
   "outputs": [
    {
     "data": {
      "text/html": [
       "<div>\n",
       "<style>\n",
       "    .dataframe thead tr:only-child th {\n",
       "        text-align: right;\n",
       "    }\n",
       "\n",
       "    .dataframe thead th {\n",
       "        text-align: left;\n",
       "    }\n",
       "\n",
       "    .dataframe tbody tr th {\n",
       "        vertical-align: top;\n",
       "    }\n",
       "</style>\n",
       "<table border=\"1\" class=\"dataframe\">\n",
       "  <thead>\n",
       "    <tr style=\"text-align: right;\">\n",
       "      <th></th>\n",
       "      <th>location</th>\n",
       "      <th>city</th>\n",
       "      <th>country</th>\n",
       "    </tr>\n",
       "  </thead>\n",
       "  <tbody>\n",
       "    <tr>\n",
       "      <th>0</th>\n",
       "      <td>Berlin</td>\n",
       "      <td>Berlin</td>\n",
       "      <td>None</td>\n",
       "    </tr>\n",
       "    <tr>\n",
       "      <th>1</th>\n",
       "      <td>Berlin Deutschland</td>\n",
       "      <td>Berlin</td>\n",
       "      <td>Deutschland</td>\n",
       "    </tr>\n",
       "    <tr>\n",
       "      <th>2</th>\n",
       "      <td>Hannover</td>\n",
       "      <td>Hannover</td>\n",
       "      <td>None</td>\n",
       "    </tr>\n",
       "    <tr>\n",
       "      <th>3</th>\n",
       "      <td>Paris</td>\n",
       "      <td>Paris</td>\n",
       "      <td>None</td>\n",
       "    </tr>\n",
       "    <tr>\n",
       "      <th>4</th>\n",
       "      <td>Berlin Germany</td>\n",
       "      <td>Berlin</td>\n",
       "      <td>Germany</td>\n",
       "    </tr>\n",
       "    <tr>\n",
       "      <th>5</th>\n",
       "      <td>Berlin</td>\n",
       "      <td>Berlin</td>\n",
       "      <td>None</td>\n",
       "    </tr>\n",
       "    <tr>\n",
       "      <th>6</th>\n",
       "      <td>Holland</td>\n",
       "      <td>Holland</td>\n",
       "      <td>None</td>\n",
       "    </tr>\n",
       "    <tr>\n",
       "      <th>7</th>\n",
       "      <td>Holland</td>\n",
       "      <td>Holland</td>\n",
       "      <td>None</td>\n",
       "    </tr>\n",
       "  </tbody>\n",
       "</table>\n",
       "</div>"
      ],
      "text/plain": [
       "             location      city      country\n",
       "0              Berlin    Berlin         None\n",
       "1  Berlin Deutschland    Berlin  Deutschland\n",
       "2            Hannover  Hannover         None\n",
       "3               Paris     Paris         None\n",
       "4      Berlin Germany    Berlin      Germany\n",
       "5              Berlin    Berlin         None\n",
       "6             Holland   Holland         None\n",
       "7             Holland   Holland         None"
      ]
     },
     "execution_count": 92,
     "metadata": {},
     "output_type": "execute_result"
    }
   ],
   "source": [
    "location['location'] = location['location'].str.replace(',', '')\n",
    "location[['city','country']] = location['location'].loc[location['location'].str.split().str.len() != 0].str.split(expand=True)\n",
    "location"
   ]
  },
  {
   "cell_type": "markdown",
   "metadata": {},
   "source": [
    "Now lets find the most common places in our data set. Once we have a list of frequent places, we will assign lat and long to those places. "
   ]
  },
  {
   "cell_type": "code",
   "execution_count": 93,
   "metadata": {},
   "outputs": [
    {
     "data": {
      "text/html": [
       "<div>\n",
       "<style>\n",
       "    .dataframe thead tr:only-child th {\n",
       "        text-align: right;\n",
       "    }\n",
       "\n",
       "    .dataframe thead th {\n",
       "        text-align: left;\n",
       "    }\n",
       "\n",
       "    .dataframe tbody tr th {\n",
       "        vertical-align: top;\n",
       "    }\n",
       "</style>\n",
       "<table border=\"1\" class=\"dataframe\">\n",
       "  <thead>\n",
       "    <tr style=\"text-align: right;\">\n",
       "      <th></th>\n",
       "      <th>city</th>\n",
       "      <th>count</th>\n",
       "    </tr>\n",
       "  </thead>\n",
       "  <tbody>\n",
       "    <tr>\n",
       "      <th>0</th>\n",
       "      <td>Berlin</td>\n",
       "      <td>4</td>\n",
       "    </tr>\n",
       "    <tr>\n",
       "      <th>1</th>\n",
       "      <td>Holland</td>\n",
       "      <td>2</td>\n",
       "    </tr>\n",
       "    <tr>\n",
       "      <th>2</th>\n",
       "      <td>Hannover</td>\n",
       "      <td>1</td>\n",
       "    </tr>\n",
       "    <tr>\n",
       "      <th>3</th>\n",
       "      <td>Paris</td>\n",
       "      <td>1</td>\n",
       "    </tr>\n",
       "  </tbody>\n",
       "</table>\n",
       "</div>"
      ],
      "text/plain": [
       "       city  count\n",
       "0    Berlin      4\n",
       "1   Holland      2\n",
       "2  Hannover      1\n",
       "3     Paris      1"
      ]
     },
     "execution_count": 93,
     "metadata": {},
     "output_type": "execute_result"
    }
   ],
   "source": [
    "#get requence of city (note we can only infer that the first word in the string is a city)\n",
    "from collections import Counter\n",
    "counter = Counter(location['city'])\n",
    "city = counter.keys()\n",
    "cities = counter.values()\n",
    "city_freq = pd.DataFrame.from_dict(counter, orient='index').reset_index()\n",
    "city_freq = city_freq.rename(columns={'index':'city', 0:'count'})\n",
    "\n",
    "city_freq = city_freq.sort_values('count', ascending=False)\n",
    "city_freq = city_freq.reset_index(drop=True)\n",
    "city_freq"
   ]
  },
  {
   "cell_type": "code",
   "execution_count": 46,
   "metadata": {
    "scrolled": false
   },
   "outputs": [
    {
     "data": {
      "text/html": [
       "<div>\n",
       "<style>\n",
       "    .dataframe thead tr:only-child th {\n",
       "        text-align: right;\n",
       "    }\n",
       "\n",
       "    .dataframe thead th {\n",
       "        text-align: left;\n",
       "    }\n",
       "\n",
       "    .dataframe tbody tr th {\n",
       "        vertical-align: top;\n",
       "    }\n",
       "</style>\n",
       "<table border=\"1\" class=\"dataframe\">\n",
       "  <thead>\n",
       "    <tr style=\"text-align: right;\">\n",
       "      <th></th>\n",
       "      <th>city</th>\n",
       "      <th>count</th>\n",
       "      <th>lat</th>\n",
       "      <th>long</th>\n",
       "    </tr>\n",
       "  </thead>\n",
       "  <tbody>\n",
       "    <tr>\n",
       "      <th>0</th>\n",
       "      <td>Berlin</td>\n",
       "      <td>4</td>\n",
       "      <td>52.517037</td>\n",
       "      <td>13.388860</td>\n",
       "    </tr>\n",
       "    <tr>\n",
       "      <th>1</th>\n",
       "      <td>Holland</td>\n",
       "      <td>2</td>\n",
       "      <td>42.787602</td>\n",
       "      <td>-86.109083</td>\n",
       "    </tr>\n",
       "    <tr>\n",
       "      <th>2</th>\n",
       "      <td>Hannover</td>\n",
       "      <td>1</td>\n",
       "      <td>NaN</td>\n",
       "      <td>NaN</td>\n",
       "    </tr>\n",
       "    <tr>\n",
       "      <th>3</th>\n",
       "      <td>New</td>\n",
       "      <td>1</td>\n",
       "      <td>NaN</td>\n",
       "      <td>NaN</td>\n",
       "    </tr>\n",
       "  </tbody>\n",
       "</table>\n",
       "</div>"
      ],
      "text/plain": [
       "       city  count        lat       long\n",
       "0    Berlin      4  52.517037  13.388860\n",
       "1   Holland      2  42.787602 -86.109083\n",
       "2  Hannover      1        NaN        NaN\n",
       "3       New      1        NaN        NaN"
      ]
     },
     "execution_count": 46,
     "metadata": {},
     "output_type": "execute_result"
    }
   ],
   "source": [
    "#Use geopy to call the Google Maps API\n",
    "\n",
    "from time import sleep\n",
    "from geopy.geocoders import Nominatim\n",
    "geolocator = Nominatim()\n",
    "real_location = geolocator.geocode(city_freq['city'][0])\n",
    "\n",
    "city_freq['lat'] = np.nan\n",
    "city_freq['long'] = np.nan\n",
    "\n",
    "for i in range (0,2):\n",
    "    real_location = geolocator.geocode(city_freq[\"city\"][i])\n",
    "    if real_location is None: \n",
    "        pass\n",
    "    else:\n",
    "        city_freq.loc[i,'lat'] = real_location.latitude\n",
    "        city_freq.loc[i,'long'] = real_location.longitude\n",
    "    sleep(5)\n",
    "\n",
    "city_freq"
   ]
  },
  {
   "cell_type": "markdown",
   "metadata": {},
   "source": [
    "Finally, assign these coordinates back to the original location data. You can think of these as our corpus of tweets."
   ]
  },
  {
   "cell_type": "code",
   "execution_count": 55,
   "metadata": {},
   "outputs": [],
   "source": [
    "#if location[location['city'][0]].str.contains(city_freq['city'][0]):\n",
    "                     "
   ]
  },
  {
   "cell_type": "markdown",
   "metadata": {},
   "source": [
    "To summarize our work, lets graph the demographics we've collected on gender, ethnicity, and location:"
   ]
  },
  {
   "cell_type": "code",
   "execution_count": 61,
   "metadata": {},
   "outputs": [],
   "source": [
    "%matplotlib inline\n",
    "\n",
    "import matplotlib\n",
    "import numpy as np\n",
    "import matplotlib.pyplot as plt"
   ]
  },
  {
   "cell_type": "code",
   "execution_count": 94,
   "metadata": {},
   "outputs": [
    {
     "data": {
      "text/plain": [
       "<matplotlib.axes._subplots.AxesSubplot at 0x12a225978>"
      ]
     },
     "execution_count": 94,
     "metadata": {},
     "output_type": "execute_result"
    },
    {
     "data": {
      "image/png": "[encoded data removed]",
      "text/plain": [
       "<matplotlib.figure.Figure at 0x1284775c0>"
      ]
     },
     "metadata": {},
     "output_type": "display_data"
    }
   ],
   "source": [
    "#x = city_freq['city']\n",
    "#y = city_freq['count']\n",
    "#city_freq.plot(x,y, kind='hist')\n",
    "\n",
    "location['city'].value_counts().plot(kind='bar')"
   ]
  },
  {
   "cell_type": "code",
   "execution_count": 83,
   "metadata": {},
   "outputs": [
    {
     "data": {
      "text/plain": [
       "<matplotlib.axes._subplots.AxesSubplot at 0x125e24d68>"
      ]
     },
     "execution_count": 83,
     "metadata": {},
     "output_type": "execute_result"
    },
    {
     "data": {
      "image/png": "[encoded data removed]",
      "text/plain": [
       "<matplotlib.figure.Figure at 0x125e242b0>"
      ]
     },
     "metadata": {},
     "output_type": "display_data"
    }
   ],
   "source": [
    "ethnicity['race'].value_counts().plot(kind='bar')"
   ]
  },
  {
   "cell_type": "code",
   "execution_count": 120,
   "metadata": {},
   "outputs": [
    {
     "data": {
      "text/plain": [
       "['48.85341', '2.3488']"
      ]
     },
     "execution_count": 120,
     "metadata": {},
     "output_type": "execute_result"
    }
   ],
   "source": []
  },
  {
   "cell_type": "code",
   "execution_count": null,
   "metadata": {
    "collapsed": true
   },
   "outputs": [],
   "source": []
  }
 ],
 "metadata": {
  "kernelspec": {
   "display_name": "Python 3",
   "language": "python",
   "name": "python3"
  },
  "language_info": {
   "codemirror_mode": {
    "name": "ipython",
    "version": 3
   },
   "file_extension": ".py",
   "mimetype": "text/x-python",
   "name": "python",
   "nbconvert_exporter": "python",
   "pygments_lexer": "ipython3",
   "version": "3.6.2"
  }
 },
 "nbformat": 4,
 "nbformat_minor": 2
}
